{
 "cells": [
  {
   "cell_type": "code",
   "execution_count": 1,
   "id": "f5fd391b",
   "metadata": {},
   "outputs": [
    {
     "name": "stdout",
     "output_type": "stream",
     "text": [
      "Cloning into 'bhagavad-gita-as-it-is'...\n",
      "remote: Enumerating objects: 2232, done.\u001b[K\n",
      "remote: Total 2232 (delta 0), reused 0 (delta 0), pack-reused 2232\u001b[K\n",
      "Receiving objects: 100% (2232/2232), 1.98 MiB | 5.48 MiB/s, done.\n",
      "Resolving deltas: 100% (777/777), done.\n"
     ]
    }
   ],
   "source": [
    "!git clone https://github.com/dbachko/bhagavad-gita-as-it-is.git"
   ]
  },
  {
   "cell_type": "code",
   "execution_count": 120,
   "id": "6883b407",
   "metadata": {},
   "outputs": [],
   "source": [
    "import glob \n",
    "collection = glob.glob(\"./bhagavad-gita-as-it-is/en/*/*.md\",recursive=True)"
   ]
  },
  {
   "cell_type": "code",
   "execution_count": 121,
   "id": "e06218ec",
   "metadata": {},
   "outputs": [],
   "source": [
    "cleared = filter(lambda x: \"README\" not in x, collection)"
   ]
  },
  {
   "cell_type": "code",
   "execution_count": 122,
   "id": "35f4edc4",
   "metadata": {},
   "outputs": [],
   "source": [
    "import pandas as pd\n",
    "\n",
    "df = pd.DataFrame(columns = [\"section\",\"verse\",\"translation\",\"purport\",\"embedding\"])\n",
    "\n",
    "i = 0\n",
    "for x in cleared:\n",
    "    i+=1\n",
    "    with open(x) as ofile:\n",
    "        data = ofile.read()\n",
    "        section = '-'.join(x.split(\"/\")[-2:])\n",
    "        p1 = data[:data.find(\"\\n\\n\\n\\n### Translation:\\n\\n**\")][len(\"# Text 2\\n\\n\"):]\n",
    "        p2 = data[data.find(\"### Translation:\\n\\n**\"):data.find(\"**\\n\\n### Purport:\")][len(\"### Translation:\\n\\n**\"):]\n",
    "        p3 = data[data.find(\"### Purport:\"):][len(\"### Purport:\\n\\n\"):]\n",
    "        df.loc[i] = [section,p1,p2,p3,\"\"]"
   ]
  },
  {
   "cell_type": "code",
   "execution_count": 123,
   "id": "21b302f3",
   "metadata": {},
   "outputs": [
    {
     "data": {
      "text/html": [
       "<div>\n",
       "<style scoped>\n",
       "    .dataframe tbody tr th:only-of-type {\n",
       "        vertical-align: middle;\n",
       "    }\n",
       "\n",
       "    .dataframe tbody tr th {\n",
       "        vertical-align: top;\n",
       "    }\n",
       "\n",
       "    .dataframe thead th {\n",
       "        text-align: right;\n",
       "    }\n",
       "</style>\n",
       "<table border=\"1\" class=\"dataframe\">\n",
       "  <thead>\n",
       "    <tr style=\"text-align: right;\">\n",
       "      <th></th>\n",
       "      <th>section</th>\n",
       "      <th>verse</th>\n",
       "      <th>translation</th>\n",
       "      <th>purport</th>\n",
       "      <th>embedding</th>\n",
       "    </tr>\n",
       "  </thead>\n",
       "  <tbody>\n",
       "    <tr>\n",
       "      <th>657</th>\n",
       "      <td>14-8.md</td>\n",
       "      <td>तमस्त्वज्ञानजं विद्धि मोहनं सर्वदेहिनाम् ।  \\n...</td>\n",
       "      <td>O son of Bharata, know that the mode of darkne...</td>\n",
       "      <td>In this verse the specific application of the ...</td>\n",
       "      <td></td>\n",
       "    </tr>\n",
       "    <tr>\n",
       "      <th>658</th>\n",
       "      <td>14-3.md</td>\n",
       "      <td>मम योनिर्महद्ब्रह्म तस्मिन्गर्भं दधाम्यहम् ।  ...</td>\n",
       "      <td>The total material substance, called Brahman, ...</td>\n",
       "      <td>This is an explanation of the world: everythin...</td>\n",
       "      <td></td>\n",
       "    </tr>\n",
       "    <tr>\n",
       "      <th>659</th>\n",
       "      <td>14-7.md</td>\n",
       "      <td>रजो रागात्मकं विद्धि तृष्णासङ्गसमुद्भवम् ।  \\n...</td>\n",
       "      <td>The mode of passion is born of unlimited desir...</td>\n",
       "      <td>The mode of passion is characterized by the at...</td>\n",
       "      <td></td>\n",
       "    </tr>\n",
       "    <tr>\n",
       "      <th>660</th>\n",
       "      <td>14-6.md</td>\n",
       "      <td>तत्र सत्त्वं निर्मलत्वात्प्रकाशकमनामयम् ।  \\nस...</td>\n",
       "      <td>O sinless one, the mode of goodness, being pur...</td>\n",
       "      <td>The living entities conditioned by material na...</td>\n",
       "      <td></td>\n",
       "    </tr>\n",
       "    <tr>\n",
       "      <th>661</th>\n",
       "      <td>14-2.md</td>\n",
       "      <td>इदं ज्ञानमुपाश्रित्य मम साधर्म्यमागताः ।  \\nसर...</td>\n",
       "      <td>By becoming fixed in this knowledge, one can a...</td>\n",
       "      <td>After acquiring perfect transcendental knowled...</td>\n",
       "      <td></td>\n",
       "    </tr>\n",
       "  </tbody>\n",
       "</table>\n",
       "</div>"
      ],
      "text/plain": [
       "     section                                              verse  \\\n",
       "657  14-8.md  तमस्त्वज्ञानजं विद्धि मोहनं सर्वदेहिनाम् ।  \\n...   \n",
       "658  14-3.md  मम योनिर्महद्ब्रह्म तस्मिन्गर्भं दधाम्यहम् ।  ...   \n",
       "659  14-7.md  रजो रागात्मकं विद्धि तृष्णासङ्गसमुद्भवम् ।  \\n...   \n",
       "660  14-6.md  तत्र सत्त्वं निर्मलत्वात्प्रकाशकमनामयम् ।  \\nस...   \n",
       "661  14-2.md  इदं ज्ञानमुपाश्रित्य मम साधर्म्यमागताः ।  \\nसर...   \n",
       "\n",
       "                                           translation  \\\n",
       "657  O son of Bharata, know that the mode of darkne...   \n",
       "658  The total material substance, called Brahman, ...   \n",
       "659  The mode of passion is born of unlimited desir...   \n",
       "660  O sinless one, the mode of goodness, being pur...   \n",
       "661  By becoming fixed in this knowledge, one can a...   \n",
       "\n",
       "                                               purport embedding  \n",
       "657  In this verse the specific application of the ...            \n",
       "658  This is an explanation of the world: everythin...            \n",
       "659  The mode of passion is characterized by the at...            \n",
       "660  The living entities conditioned by material na...            \n",
       "661  After acquiring perfect transcendental knowled...            "
      ]
     },
     "execution_count": 123,
     "metadata": {},
     "output_type": "execute_result"
    }
   ],
   "source": [
    "df.tail()"
   ]
  },
  {
   "cell_type": "code",
   "execution_count": 124,
   "id": "3a8057d0",
   "metadata": {},
   "outputs": [],
   "source": [
    "import numpy as np\n",
    "import openai\n",
    "import pandas as pd\n",
    "import pickle\n",
    "import tiktoken\n",
    "openai.api_key=\"\"#Add Your Key here\n",
    "COMPLETIONS_MODEL = \"text-davinci-003\"\n",
    "EMBEDDING_MODEL = \"text-embedding-ada-002\""
   ]
  },
  {
   "cell_type": "code",
   "execution_count": 125,
   "id": "8577cea0",
   "metadata": {},
   "outputs": [],
   "source": [
    "def get_embedding(text: str, model: str=EMBEDDING_MODEL) -> list[float]:\n",
    "    result = openai.Embedding.create(\n",
    "      model=model,\n",
    "      input=text\n",
    "    )\n",
    "    return result[\"data\"][0][\"embedding\"]\n",
    "\n",
    "def compute_doc_embeddings(df: pd.DataFrame) -> dict[tuple[str, str], list[float]]:\n",
    "    return {\n",
    "        idx: get_embedding(r.purport) for idx, r in df.iterrows()\n",
    "    }"
   ]
  },
  {
   "cell_type": "code",
   "execution_count": 146,
   "id": "f1e13854",
   "metadata": {},
   "outputs": [],
   "source": [
    "def get_top_document(query,matrix):\n",
    "    dot_products = np.dot(matrix, query)\n",
    "    max_index = np.argsort(dot_products)[-2:]\n",
    "    return max_index"
   ]
  },
  {
   "cell_type": "code",
   "execution_count": 127,
   "id": "0685f746",
   "metadata": {},
   "outputs": [],
   "source": [
    "document_embeddings_final = compute_doc_embeddings(df)"
   ]
  },
  {
   "cell_type": "code",
   "execution_count": 129,
   "id": "bafaeed9",
   "metadata": {
    "scrolled": true
   },
   "outputs": [],
   "source": [
    "for x in document_embeddings_final.keys():\n",
    "    df.loc[x]['embedding'] = document_embeddings_final[x]"
   ]
  },
  {
   "cell_type": "code",
   "execution_count": 130,
   "id": "9ace92d0",
   "metadata": {},
   "outputs": [],
   "source": [
    "df.to_csv(\"final_gita_embedded.csv\")"
   ]
  },
  {
   "cell_type": "code",
   "execution_count": 132,
   "id": "66fab533",
   "metadata": {},
   "outputs": [],
   "source": [
    "matrix = np.array(df['embedding'].tolist())\n",
    "document_index = get_top_document(matrix[3],matrix)"
   ]
  },
  {
   "cell_type": "code",
   "execution_count": 155,
   "id": "22d9ad6d",
   "metadata": {},
   "outputs": [],
   "source": [
    "query_embedding = get_embedding(\"How to achieve success in life?\")"
   ]
  },
  {
   "cell_type": "code",
   "execution_count": 156,
   "id": "ec24a767",
   "metadata": {},
   "outputs": [],
   "source": [
    "document_index = get_top_document(query_embedding,matrix)"
   ]
  },
  {
   "cell_type": "code",
   "execution_count": 157,
   "id": "15dace0b",
   "metadata": {},
   "outputs": [
    {
     "data": {
      "text/plain": [
       "'In the pursuit of self-realization, one has to follow many rules and regulations to control the mind and the senses and to concentrate the mind on the self. All these procedures are very difficult, bitter like poison, but if one is successful in following the regulations and comes to the transcendental position, he begins to drink real nectar, and he enjoys life.'"
      ]
     },
     "execution_count": 157,
     "metadata": {},
     "output_type": "execute_result"
    }
   ],
   "source": [
    "df.iloc[document_index[1]]['purport']"
   ]
  },
  {
   "cell_type": "code",
   "execution_count": 158,
   "id": "1e0eb6c3",
   "metadata": {},
   "outputs": [
    {
     "data": {
      "text/plain": [
       "'One should be very careful of these three enemies to human life: lust, anger and greed. The more a person is freed from lust, anger and greed, the more his existence becomes pure. Then he can follow the rules and regulations enjoined in the Vedic literature. By following the regulative principles of human life, one gradually raises himself to the platform of spiritual realization. If one is so fortunate, by such practice, to rise to the platform of Krishna consciousness, then success is guaranteed for him. In the Vedic literature, the ways of action and reaction are prescribed to enable one to come to the stage of purification. The whole method is based on giving up lust, greed and anger. By cultivating knowledge of this process, one can be elevated to the highest position of self-realization; this self-realization is perfected in devotional service. In that devotional service, the liberation of the conditioned soul is guaranteed. Therefore, according to the Vedic system, there are instituted the four orders of life and the four statuses of life, called the caste system and the spiritual order system. There are different rules and regulations for different castes or divisions of society, and if a person is able to follow them, he will be automatically raised to the highest platform of spiritual realization. Then he can have liberation without a doubt.'"
      ]
     },
     "execution_count": 158,
     "metadata": {},
     "output_type": "execute_result"
    }
   ],
   "source": [
    "df.iloc[document_index[0]]['purport']"
   ]
  }
 ],
 "metadata": {
  "kernelspec": {
   "display_name": "Python 3 (ipykernel)",
   "language": "python",
   "name": "python3"
  },
  "language_info": {
   "codemirror_mode": {
    "name": "ipython",
    "version": 3
   },
   "file_extension": ".py",
   "mimetype": "text/x-python",
   "name": "python",
   "nbconvert_exporter": "python",
   "pygments_lexer": "ipython3",
   "version": "3.10.4"
  }
 },
 "nbformat": 4,
 "nbformat_minor": 5
}
